{
 "cells": [
  {
   "cell_type": "markdown",
   "id": "793e9f2a",
   "metadata": {},
   "source": [
    "# ! Welcome to Numpy tutorial!"
   ]
  },
  {
   "cell_type": "markdown",
   "id": "5c2e3a74",
   "metadata": {},
   "source": [
    "### Numpy as General purpose processing package.It provides a high performance multidimensional array objwct and tools for working with these arrays. It is Fundamental package for scientific computing"
   ]
  },
  {
   "cell_type": "markdown",
   "id": "0f97d1f0",
   "metadata": {},
   "source": [
    "### Array - is a data structure that stores values of same data type.In python,this is main difference between arrays and lists.While python list is data structure that contains all data types,arrays contain only one data type"
   ]
  },
  {
   "cell_type": "code",
   "execution_count": 1,
   "id": "ec70ad81",
   "metadata": {},
   "outputs": [
    {
     "name": "stdout",
     "output_type": "stream",
     "text": [
      "[1 2 3 4]\n",
      "[[2 4]\n",
      " [3 6]]\n"
     ]
    }
   ],
   "source": [
    "#import numpy\n",
    "import numpy as np\n",
    "a=np.array([1,2,3,4])\n",
    "print(a)\n",
    "# this is 1-d array as it it represented in([])\n",
    "b=np.array([[2,4],[3,6]])\n",
    "print(b)"
   ]
  },
  {
   "cell_type": "code",
   "execution_count": 2,
   "id": "89cf238f",
   "metadata": {},
   "outputs": [
    {
     "name": "stdout",
     "output_type": "stream",
     "text": [
      "4\n",
      "int32\n",
      "<class 'numpy.ndarray'>\n",
      "(4,)\n",
      "1\n"
     ]
    }
   ],
   "source": [
    "#some inbult functions \n",
    "print(a.size)  #returns total no of elements in a array\n",
    "print(a.dtype) #to know a data type\n",
    "print(type(b))\n",
    "print(a.shape) #when there is 1-d array it always gives values of only items (shape=rows,columns)\n",
    "print(a.ndim)  #specifies 1-d or 2-d"
   ]
  },
  {
   "cell_type": "code",
   "execution_count": 3,
   "id": "923e0be2",
   "metadata": {},
   "outputs": [
    {
     "name": "stdout",
     "output_type": "stream",
     "text": [
      "[[1 2 3 4 5]\n",
      " [5 3 6 7 8]\n",
      " [2 3 6 1 9]]\n",
      "(3, 5)\n"
     ]
    },
    {
     "data": {
      "text/plain": [
       "array([[1, 2, 3, 4, 5],\n",
       "       [5, 3, 6, 7, 8],\n",
       "       [2, 3, 6, 1, 9]])"
      ]
     },
     "execution_count": 3,
     "metadata": {},
     "output_type": "execute_result"
    }
   ],
   "source": [
    "#Multinested array\n",
    "a=[1,2,3,4,5]\n",
    "b=[5,3,6,7,8]\n",
    "c=[2,3,6,1,9]\n",
    "arr=np.array([a,b,c])\n",
    "print(arr)\n",
    "n=arr.shape\n",
    "print(n)\n",
    "arr.reshape(5,3)\n",
    "arr"
   ]
  },
  {
   "cell_type": "code",
   "execution_count": 12,
   "id": "c7ae4b54",
   "metadata": {},
   "outputs": [
    {
     "name": "stdout",
     "output_type": "stream",
     "text": [
      "[[0. 0. 0. 0.]\n",
      " [0. 0. 0. 0.]\n",
      " [0. 0. 0. 0.]]\n",
      "[[1. 1. 1. 1.]\n",
      " [1. 1. 1. 1.]\n",
      " [1. 1. 1. 1.]]\n"
     ]
    }
   ],
   "source": [
    "a=np.zeros((3,4))\n",
    "print(a)\n",
    "a=np.ones((3,4))\n",
    "print(a)"
   ]
  },
  {
   "cell_type": "code",
   "execution_count": 13,
   "id": "e86910f9",
   "metadata": {},
   "outputs": [
    {
     "name": "stdout",
     "output_type": "stream",
     "text": [
      "[[5 5 5 5]\n",
      " [5 5 5 5]\n",
      " [5 5 5 5]]\n"
     ]
    }
   ],
   "source": [
    "c=np.full((3,4),5)\n",
    "print(c)"
   ]
  },
  {
   "cell_type": "code",
   "execution_count": 5,
   "id": "de4d9e92",
   "metadata": {},
   "outputs": [
    {
     "name": "stdout",
     "output_type": "stream",
     "text": [
      "[[0.98767003 0.25996386 0.53238144]\n",
      " [0.59811888 0.61282545 0.86155381]\n",
      " [0.25814203 0.06917984 0.38056114]]\n",
      "[[-1.14138073  0.56017554 -1.65885828  0.01532306]\n",
      " [ 0.32636652  2.64130208  0.1702747  -0.74610242]\n",
      " [-0.06682769  1.93056611 -1.05658824  0.49037194]\n",
      " [ 0.74716199 -1.48085689 -1.95573144  0.02861054]]\n",
      "[[38  7 45 34 35]\n",
      " [47 38 26 43 25]\n",
      " [ 0 32  3 19 19]\n",
      " [40 17 47 42 23]]\n"
     ]
    }
   ],
   "source": [
    "##Random values\n",
    "#interger random values\n",
    "#pixel values btn 0-255\n",
    "i=np.random.rand(3,3)#picks a random values\n",
    "print(i)\n",
    "c=np.random.randn(4,4)#returns with standard distribution\n",
    "print(c)\n",
    "n=np.random.randint(0,50,(4,5))\n",
    "print(n)"
   ]
  },
  {
   "cell_type": "code",
   "execution_count": 14,
   "id": "b904ad8e",
   "metadata": {},
   "outputs": [
    {
     "name": "stdout",
     "output_type": "stream",
     "text": [
      "[ 0. 10. 20. 30.]\n"
     ]
    }
   ],
   "source": [
    "#linspace\n",
    "import numpy as np\n",
    "\n",
    "b=np.linspace(0,30,4)\n",
    "print(b)"
   ]
  },
  {
   "cell_type": "code",
   "execution_count": 6,
   "id": "dbc4e90b",
   "metadata": {},
   "outputs": [
    {
     "name": "stdout",
     "output_type": "stream",
     "text": [
      "[ 0  1  2  3  4  5  6  7  8  9 10 11 12 13 14 15 16 17 18 19 20 21 22 23\n",
      " 24 25 26 27 28 29 30 31 32 33 34 35 36 37 38 39]\n",
      "[ 0  5 10 15 20 25 30 35 40 45]\n",
      "[ 1.          1.18367347  1.36734694  1.55102041  1.73469388  1.91836735\n",
      "  2.10204082  2.28571429  2.46938776  2.65306122  2.83673469  3.02040816\n",
      "  3.20408163  3.3877551   3.57142857  3.75510204  3.93877551  4.12244898\n",
      "  4.30612245  4.48979592  4.67346939  4.85714286  5.04081633  5.2244898\n",
      "  5.40816327  5.59183673  5.7755102   5.95918367  6.14285714  6.32653061\n",
      "  6.51020408  6.69387755  6.87755102  7.06122449  7.24489796  7.42857143\n",
      "  7.6122449   7.79591837  7.97959184  8.16326531  8.34693878  8.53061224\n",
      "  8.71428571  8.89795918  9.08163265  9.26530612  9.44897959  9.63265306\n",
      "  9.81632653 10.        ]\n"
     ]
    }
   ],
   "source": [
    "#arange=start:stop:step\n",
    "p=np.arange(0,40)\n",
    "print(p)\n",
    "b=np.arange(0,50,5)#with step\n",
    "print(b)\n",
    "\n",
    "#linespace  start;stop:no of values\n",
    "p=np.linspace(1,10,50)\n",
    "print(p)\n"
   ]
  },
  {
   "cell_type": "code",
   "execution_count": 7,
   "id": "f73a37de",
   "metadata": {},
   "outputs": [
    {
     "name": "stdout",
     "output_type": "stream",
     "text": [
      "[[ 5  8]\n",
      " [10  4]]\n",
      "[[2 5]\n",
      " [7 1]]\n",
      "[[12 21]\n",
      " [27  9]]\n",
      "[[1.   1.75]\n",
      " [2.25 0.75]]\n",
      "[[16 49]\n",
      " [81  9]]\n",
      "[[2.         2.64575131]\n",
      " [3.         1.73205081]]\n",
      "[[-0.7568025   0.6569866 ]\n",
      " [ 0.41211849  0.14112001]]\n",
      "[[-0.65364362  0.75390225]\n",
      " [-0.91113026 -0.9899925 ]]\n",
      "[[ 1.15782128  0.87144798]\n",
      " [-0.45231566 -0.14254654]]\n",
      "23\n",
      "3\n",
      "9\n",
      "[4 3]\n",
      "[7 9]\n",
      "[4 3]\n",
      "[0. 0. 0. 0.]\n"
     ]
    }
   ],
   "source": [
    "#mathematical operations\n",
    "b=np.array([[4,7],[9,3]])\n",
    "print(b+1)#1 added to each element\n",
    "print(b-2)# 2 is substracted\n",
    "print(b*3)# multiply by 3 to each element\n",
    "print(b/4)#divide\n",
    "print(b**2)\n",
    "\n"
   ]
  },
  {
   "cell_type": "code",
   "execution_count": 15,
   "id": "6a51d946",
   "metadata": {},
   "outputs": [
    {
     "name": "stdout",
     "output_type": "stream",
     "text": [
      "[0.         3.16227766 4.47213595 5.47722558]\n",
      "[ 0.         -0.54402111  0.91294525 -0.98803162]\n",
      "[ 1.         -0.83907153  0.40808206  0.15425145]\n",
      "[ 0.          0.64836083  2.23716094 -6.4053312 ]\n",
      "60.0\n",
      "0.0\n",
      "30.0\n"
     ]
    }
   ],
   "source": [
    "print(np.sqrt(b))  #sqrt of each number\n",
    "print(np.sin(b))  #sin function of b\n",
    "print(np.cos(b)) #cosine\n",
    "print(np.tan(b))  #tan\n",
    "print(np.sum(b))\n",
    "print(np.min(b))\n",
    "print(np.max(b))"
   ]
  },
  {
   "cell_type": "code",
   "execution_count": 22,
   "id": "d7609665",
   "metadata": {},
   "outputs": [
    {
     "name": "stdout",
     "output_type": "stream",
     "text": [
      "[[1 2]\n",
      " [3 4]]\n",
      "[1 2]\n",
      "[3 4]\n",
      "[1 3]\n",
      "[2 4]\n"
     ]
    }
   ],
   "source": [
    "import numpy as np\n",
    "a=np.array([[1,2],[3,4]])\n",
    "\n",
    "print(a)\n",
    "#col = 0  axis=0 is known as col\n",
    "print(np.min(a,axis=0))\n",
    "print(np.max(a,axis=0))\n",
    "#row\n",
    "print(np.min(a,axis=1))\n",
    "print(np.max(a,axis=1))\n"
   ]
  },
  {
   "cell_type": "code",
   "execution_count": 23,
   "id": "d8a2ac80",
   "metadata": {},
   "outputs": [
    {
     "name": "stdout",
     "output_type": "stream",
     "text": [
      "[[5 6]\n",
      " [4 2]]\n",
      "[[5 6]\n",
      " [2 4]]\n",
      "[[4 2]\n",
      " [5 6]]\n"
     ]
    }
   ],
   "source": [
    "#sort\n",
    "a=np.array([[5,6],[4,2]])\n",
    "print(a)\n",
    "\n",
    "print(np.sort(a)) #defalut change in row\n",
    "print(np.sort(a,axis=0))"
   ]
  },
  {
   "cell_type": "markdown",
   "id": "979af4d5",
   "metadata": {},
   "source": [
    "### sort,matmul and dot "
   ]
  },
  {
   "cell_type": "code",
   "execution_count": 25,
   "id": "8a3d6d79",
   "metadata": {},
   "outputs": [
    {
     "name": "stdout",
     "output_type": "stream",
     "text": [
      "[[5 6]\n",
      " [7 9]]\n",
      "[[5 6]\n",
      " [7 9]]\n",
      "[[2 2]\n",
      " [2 2]]\n",
      "[[2 2]\n",
      " [2 2]]\n"
     ]
    }
   ],
   "source": [
    "a=np.array([[5,6],[7,9]])\n",
    "print(a)\n",
    "o=(np.sort(a,axis=0))\n",
    "print(o)\n",
    "b=np.array([[1,1],[1,1]])\n",
    "y=np.array([[1,1],[1,1]])\n",
    "print(np.matmul(b,y))\n",
    "print(np.dot(b,y))"
   ]
  },
  {
   "cell_type": "code",
   "execution_count": 26,
   "id": "f44af216",
   "metadata": {},
   "outputs": [
    {
     "name": "stdout",
     "output_type": "stream",
     "text": [
      "[[5 4]\n",
      " [6 2]]\n",
      "[[1 3]\n",
      " [2 4]]\n"
     ]
    }
   ],
   "source": [
    "#matrix transpose row to col and col to row\n",
    "a=np.array([[5,6],[4,2]])\n",
    "b=np.array([[1,2],[3,4]])\n",
    "print(a.T)\n",
    "print(b.T)"
   ]
  },
  {
   "cell_type": "code",
   "execution_count": 27,
   "id": "4eb73081",
   "metadata": {},
   "outputs": [
    {
     "name": "stdout",
     "output_type": "stream",
     "text": [
      "[ 1.          2.72727273  4.45454545  6.18181818  7.90909091  9.63636364\n",
      " 11.36363636 13.09090909 14.81818182 16.54545455 18.27272727 20.        ]\n",
      "(12,)\n",
      "[[ 1.          2.72727273  4.45454545  6.18181818]\n",
      " [ 7.90909091  9.63636364 11.36363636 13.09090909]\n",
      " [14.81818182 16.54545455 18.27272727 20.        ]]\n",
      "(3, 4)\n"
     ]
    }
   ],
   "source": [
    "a=np.linspace(1,20,12)\n",
    "print(a)\n",
    "print(a.shape)\n",
    "a=a.reshape(3,4)\n",
    "print(a)\n",
    "print(a.shape)"
   ]
  },
  {
   "cell_type": "code",
   "execution_count": 9,
   "id": "f71e1638",
   "metadata": {},
   "outputs": [
    {
     "name": "stdout",
     "output_type": "stream",
     "text": [
      "[[0. 0. 0. 0. 0. 0.]\n",
      " [0. 0. 0. 0. 0. 0.]\n",
      " [0. 0. 0. 0. 0. 0.]\n",
      " [0. 0. 0. 0. 0. 0.]\n",
      " [0. 0. 0. 0. 0. 0.]]\n",
      "[0. 0. 0. 0. 0. 0. 0. 0. 0. 0. 0. 0. 0. 0. 0. 0. 0. 0. 0. 0. 0. 0. 0. 0.\n",
      " 0. 0. 0. 0. 0. 0.]\n",
      "[[2 5 1]\n",
      " [1 8 6]\n",
      " [8 8 4]]\n",
      "[[2 5 1 1 8 6 8 8 4]]\n",
      "[[2]\n",
      " [5]\n",
      " [1]\n",
      " [1]\n",
      " [8]\n",
      " [6]\n",
      " [8]\n",
      " [8]\n",
      " [4]]\n"
     ]
    }
   ],
   "source": [
    "o=np.zeros((5,6))\n",
    "print(o)\n",
    "n=o.flatten()  #2d is converted to 1-d\n",
    "print(n)\n",
    "a=np.random.randint(1,10,(3,3))\n",
    "print(a)\n",
    "k=a.reshape(1,-1)   #shows as total rows\n",
    "print(k)\n",
    "o=a.reshape(-1,1)  #shows total as columns\n",
    "print(o)"
   ]
  },
  {
   "cell_type": "code",
   "execution_count": 29,
   "id": "91894492",
   "metadata": {},
   "outputs": [
    {
     "name": "stdout",
     "output_type": "stream",
     "text": [
      "[[1 1 1]\n",
      " [6 5 7]\n",
      " [5 6 9]]\n",
      "[[1 1 1 6 5 7 5 6 9]]\n"
     ]
    }
   ],
   "source": [
    "a=np.random.randint(1,10,(3,3))\n",
    "print(a)\n",
    "a=a.reshape(1,-1) # in this statment required 1 row fixed and many col\n",
    "print(a)"
   ]
  },
  {
   "cell_type": "markdown",
   "id": "08e1a344",
   "metadata": {},
   "source": [
    "### SLICING"
   ]
  },
  {
   "cell_type": "code",
   "execution_count": 32,
   "id": "dfb6cc1a",
   "metadata": {},
   "outputs": [
    {
     "name": "stdout",
     "output_type": "stream",
     "text": [
      "[[1 2 3]\n",
      " [4 5 6]\n",
      " [7 8 9]]\n",
      "[[5 6]]\n",
      "[[2]\n",
      " [8]]\n",
      "5\n",
      "[[8 7 2]\n",
      " [5 6 5]]\n"
     ]
    }
   ],
   "source": [
    "y=np.array([[1,2,3],[4,5,6],[7,8,9]])\n",
    "print(y)\n",
    "print(y[1:2,1:])\n",
    "print(y[::2,1:2])\n",
    "print(y[1,1])\n",
    "print(a[0::2,:])"
   ]
  },
  {
   "cell_type": "code",
   "execution_count": 33,
   "id": "0e0e5706",
   "metadata": {},
   "outputs": [
    {
     "name": "stdout",
     "output_type": "stream",
     "text": [
      "[[1 2 3]\n",
      " [4 5 6]\n",
      " [7 8 9]]\n",
      "[[1 3]\n",
      " [7 9]]\n",
      "[[5]]\n",
      "5\n",
      "[[1 2 3]\n",
      " [7 8 9]]\n"
     ]
    }
   ],
   "source": [
    "b=np.array([[1,2,3],[4,5,6],[7,8,9]])\n",
    "print(b)\n",
    "print(b[::2,::2])\n",
    "print(b[1:2,1:2])\n",
    "print(b[1,1])\n",
    "print(b[0::2,:])"
   ]
  },
  {
   "cell_type": "code",
   "execution_count": 11,
   "id": "6304ffc9",
   "metadata": {},
   "outputs": [
    {
     "name": "stdout",
     "output_type": "stream",
     "text": [
      "[1]\n",
      "[[0.5 1.  1.5]\n",
      " [2.  2.5 3. ]\n",
      " [3.5 4.  4.5]]\n",
      "[[1 0 1]\n",
      " [0 1 0]\n",
      " [1 0 1]]\n",
      "[[ 2  4  6]\n",
      " [ 8 10 12]\n",
      " [14 16 18]]\n"
     ]
    },
    {
     "data": {
      "text/plain": [
       "array([[1, 1, 1, 1, 1],\n",
       "       [1, 1, 1, 1, 1]])"
      ]
     },
     "execution_count": 11,
     "metadata": {},
     "output_type": "execute_result"
    }
   ],
   "source": [
    "val=2\n",
    "p=y[y<val]\n",
    "print(p)\n",
    "o=y/2\n",
    "print(o)\n",
    "i=y%2\n",
    "print(i)\n",
    "l=y*2\n",
    "print(l)\n",
    "np.ones(4,dtype=float)\n",
    "np.ones((2,5),dtype=int)"
   ]
  }
 ],
 "metadata": {
  "kernelspec": {
   "display_name": "Python 3",
   "language": "python",
   "name": "python3"
  },
  "language_info": {
   "codemirror_mode": {
    "name": "ipython",
    "version": 3
   },
   "file_extension": ".py",
   "mimetype": "text/x-python",
   "name": "python",
   "nbconvert_exporter": "python",
   "pygments_lexer": "ipython3",
   "version": "3.7.3"
  }
 },
 "nbformat": 4,
 "nbformat_minor": 5
}
